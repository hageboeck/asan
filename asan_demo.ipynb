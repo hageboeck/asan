{
 "cells": [
  {
   "cell_type": "markdown",
   "id": "lucky-parade",
   "metadata": {
    "slideshow": {
     "slide_type": "skip"
    }
   },
   "source": [
    "# Address sanitizer demo\n",
    "This demo runs on SWAN, but it requires a software stack with gcc10."
   ]
  },
  {
   "cell_type": "markdown",
   "id": "taken-liverpool",
   "metadata": {
    "slideshow": {
     "slide_type": "slide"
    }
   },
   "source": [
    "## Heap bugs\n",
    "- Experiment with the command-line argument. Note that the bug often goes unnoticed when not using the sanitizer."
   ]
  },
  {
   "cell_type": "code",
   "execution_count": null,
   "id": "unlimited-designer",
   "metadata": {
    "code_folding": [],
    "slideshow": {
     "slide_type": "-"
    }
   },
   "outputs": [],
   "source": [
    "%%file testAsan.cpp\n",
    "#include <string>\n",
    "#include <cstring>\n",
    "\n",
    "const char* heapOverflow(char* mem, int i) {\n",
    "  mem[i] = 'A';\n",
    "  return mem;\n",
    "}\n",
    "\n",
    "void freeMem(char* mem) { delete mem; }\n",
    "int main(int argc, char* argv[]) {\n",
    "  auto mem = new char[8];\n",
    "  memset(mem, '_', 8);\n",
    "  strcpy(mem, \"Hello\");\n",
    "  printf(\"%s\\n\", heapOverflow(mem, std::stoi(argv[1])));\n",
    "  \n",
    "//   freeMem(mem);\n",
    "  return 0;\n",
    "}"
   ]
  },
  {
   "cell_type": "code",
   "execution_count": null,
   "id": "creative-western",
   "metadata": {
    "slideshow": {
     "slide_type": "-"
    }
   },
   "outputs": [],
   "source": [
    "%%shell\n",
    "export ASAN_OPTIONS=detect_leaks=0\n",
    "sed -e '1s/^/\\n/' -i testAsan.cpp; g++ -fsanitize=address -g -std=c++17 testAsan.cpp;"
   ]
  },
  {
   "cell_type": "code",
   "execution_count": null,
   "id": "conscious-inclusion",
   "metadata": {
    "scrolled": true,
    "slideshow": {
     "slide_type": "-"
    }
   },
   "outputs": [],
   "source": [
    "%%shell\n",
    "./a.out 3"
   ]
  },
  {
   "cell_type": "markdown",
   "id": "patient-toyota",
   "metadata": {
    "slideshow": {
     "slide_type": "subslide"
    }
   },
   "source": [
    "- Check out leak sanitizer when not in a notebook. Output:\n",
    "        =================================================================\n",
    "        ==19929==ERROR: LeakSanitizer: detected memory leaks\n",
    "\n",
    "        Direct leak of 8 byte(s) in 1 object(s) allocated from:\n",
    "            #0 0x7f84b0bf0577 in operator new[](unsigned long) /build/gcc/WORK/build/contrib/gcc-10.1.0/src/gcc/10.1.0/libsanitizer/asan/asan_new_delete.cpp:102\n",
    "            #1 0x4024e7 in main /eos/home-s/shageboe/SWAN_projects/ASAN/testAsan.cpp:12\n",
    "            #2 0x7f84b0463554 in __libc_start_main (/lib64/libc.so.6+0x22554)\n",
    "\n",
    "        SUMMARY: AddressSanitizer: 8 byte(s) leaked in 1 allocation(s).\n",
    "- Test deletion errors, e.g. a double delete.\n",
    "\n",
    "- `valgrind` also finds these errors, but runs slower\n",
    "- `valgrind` needs more arguments, e.g. `--track-origins=yes --leak-check=full`, slowing it down even more"
   ]
  },
  {
   "cell_type": "markdown",
   "id": "essential-gasoline",
   "metadata": {
    "slideshow": {
     "slide_type": "slide"
    }
   },
   "source": [
    "## Stack bugs\n",
    "- `valgrind` cannot survey the stack.\n",
    "- **Note**: Try adding a variable to the stack frame."
   ]
  },
  {
   "cell_type": "code",
   "execution_count": null,
   "id": "municipal-poster",
   "metadata": {
    "code_folding": [],
    "slideshow": {
     "slide_type": "-"
    }
   },
   "outputs": [],
   "source": [
    "%%file testAsan.cpp\n",
    "#include <string>\n",
    "#include <cstring>\n",
    "\n",
    "std::string stackOverflow(int i) {\n",
    "  char chars[6] = \"hello\";\n",
    "  chars[i] = 'A';\n",
    "  return chars;\n",
    "}\n",
    "\n",
    "int main(int argc, char* argv[]) {\n",
    "  const int arg = std::stoi(argv[1]);\n",
    "  printf(\"%s\", stackOverflow(arg).data());\n",
    "\n",
    "  return 0;\n",
    "}\n"
   ]
  },
  {
   "cell_type": "code",
   "execution_count": null,
   "id": "happy-original",
   "metadata": {},
   "outputs": [],
   "source": [
    "%%shell\n",
    "sed -e '1s/^/\\n/' -i testAsan.cpp; g++ -g -fsanitize=address -std=c++17 testAsan.cpp"
   ]
  },
  {
   "cell_type": "code",
   "execution_count": null,
   "id": "fifth-north",
   "metadata": {
    "scrolled": true
   },
   "outputs": [],
   "source": [
    "%%shell\n",
    "./a.out 6"
   ]
  },
  {
   "cell_type": "markdown",
   "id": "vanilla-prospect",
   "metadata": {
    "slideshow": {
     "slide_type": "slide"
    }
   },
   "source": [
    "## Stack use after return\n",
    "- `asan` has an extended mode that poisons the stack memory after `return`.\n",
    "- ROOT had a few bugs like this."
   ]
  },
  {
   "cell_type": "code",
   "execution_count": null,
   "id": "known-arrival",
   "metadata": {
    "slideshow": {
     "slide_type": "-"
    }
   },
   "outputs": [],
   "source": [
    "%%file testAsan.cpp\n",
    "#include <string>\n",
    "#include <cstring>\n",
    "\n",
    "const char* stackUseAfterReturn() {\n",
    "  std::string str = \"hello\";\n",
    "  auto ptr = str.data(); // Confuse the compiler\n",
    "  return ptr;\n",
    "}\n",
    "\n",
    "int main(int, char**) {\n",
    "  printf(\"%s\\n\", stackUseAfterReturn());\n",
    "  return 0;\n",
    "}\n"
   ]
  },
  {
   "cell_type": "code",
   "execution_count": null,
   "id": "julian-entrance",
   "metadata": {
    "slideshow": {
     "slide_type": "-"
    }
   },
   "outputs": [],
   "source": [
    "%%shell\n",
    "sed -e '1s/^/\\n/' -i testAsan.cpp; g++ -g -fsanitize=address -std=c++17 testAsan.cpp"
   ]
  },
  {
   "cell_type": "markdown",
   "id": "german-bundle",
   "metadata": {
    "slideshow": {
     "slide_type": "subslide"
    }
   },
   "source": [
    "It requires the run-time flag `detect_stack_use_after_return`:"
   ]
  },
  {
   "cell_type": "code",
   "execution_count": null,
   "id": "legislative-picking",
   "metadata": {
    "slideshow": {
     "slide_type": "-"
    }
   },
   "outputs": [],
   "source": [
    "%%shell\n",
    "ASAN_OPTIONS=detect_stack_use_after_return=1 ./a.out 0 \n",
    "echo test"
   ]
  },
  {
   "cell_type": "code",
   "execution_count": null,
   "id": "adapted-latter",
   "metadata": {
    "slideshow": {
     "slide_type": "skip"
    }
   },
   "outputs": [],
   "source": []
  }
 ],
 "metadata": {
  "celltoolbar": "Slideshow",
  "kernelspec": {
   "display_name": "ROOT C++",
   "language": "c++",
   "name": "root"
  },
  "language_info": {
   "codemirror_mode": "text/x-c++src",
   "file_extension": ".C",
   "mimetype": " text/x-c++src",
   "name": "c++"
  },
  "latex_envs": {
   "LaTeX_envs_menu_present": true,
   "autoclose": false,
   "autocomplete": true,
   "bibliofile": "biblio.bib",
   "cite_by": "apalike",
   "current_citInitial": 1,
   "eqLabelWithNumbers": true,
   "eqNumInitial": 1,
   "hotkeys": {
    "equation": "Ctrl-E",
    "itemize": "Ctrl-I"
   },
   "labels_anchors": false,
   "latex_user_defs": false,
   "report_style_numbering": false,
   "user_envs_cfg": false
  },
  "rise": {
   "scroll": true
  }
 },
 "nbformat": 4,
 "nbformat_minor": 5
}
